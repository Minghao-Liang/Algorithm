{
 "cells": [
  {
   "cell_type": "code",
   "execution_count": null,
   "metadata": {},
   "outputs": [],
   "source": [
    "def insertion_sort(seq):\n",
    "    '''\n",
    "    Insertion sort\n",
    "    parm: seq, a list of comparable objects\n",
    "    return: a sorted list\n",
    "\n",
    "    Example:\n",
    "    >>> insertion_sort([3, 1, 2, 4, 5])\n",
    "    [1, 2, 3, 4, 5]\n",
    "    >>> insertion_sort([]) == sorted([])\n",
    "    True\n",
    "    >>> insertion_sort([-1, -50, -25]) == sorted([-1, -50, -25])\n",
    "    True\n",
    "    >>> insertion_sort(['d', 'a', 'b', 'e', 'c']) == sorted(['d', 'a', 'b', 'e', 'c'])\n",
    "    True\n",
    "    '''\n",
    "    for i in range(1, len(seq)):\n",
    "        key = seq[i]\n",
    "        # insert seq[i] into the sorted sequence seq[0..i-1]\n",
    "        j = i - 1\n",
    "        while j >= 0 and seq[j] > key:\n",
    "            seq[j + 1] = seq[j]\n",
    "            j -= 1\n",
    "        seq[j + 1] = key"
   ]
  },
  {
   "cell_type": "markdown",
   "metadata": {},
   "source": []
  }
 ],
 "metadata": {
  "language_info": {
   "name": "python"
  }
 },
 "nbformat": 4,
 "nbformat_minor": 2
}
