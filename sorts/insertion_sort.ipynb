{
 "cells": [
  {
   "cell_type": "code",
   "execution_count": 5,
   "metadata": {},
   "outputs": [],
   "source": [
    "def insertion_sort(seq):\n",
    "    '''\n",
    "    Insertion sort\n",
    "    parm: seq, a list of comparable objects\n",
    "    return: a sorted list\n",
    "\n",
    "    Example:\n",
    "    >>> insertion_sort([3, 1, 2, 4, 5])\n",
    "    [1, 2, 3, 4, 5]\n",
    "    >>> insertion_sort([]) == sorted([])\n",
    "    True\n",
    "    >>> insertion_sort([-1, -50, -25]) == sorted([-1, -50, -25])\n",
    "    True\n",
    "    >>> insertion_sort(['d', 'a', 'b', 'e', 'c']) == sorted(['d', 'a', 'b', 'e', 'c'])\n",
    "    True\n",
    "    '''\n",
    "    for i in range(1, len(seq)):\n",
    "        key = seq[i]\n",
    "        # insert seq[i] into the sorted sequence seq[0..i-1]\n",
    "        j = i - 1\n",
    "        while j >= 0 and seq[j] > key:\n",
    "            seq[j + 1] = seq[j]\n",
    "            j -= 1\n",
    "        seq[j + 1] = key\n",
    "    \n",
    "    return seq"
   ]
  },
  {
   "cell_type": "code",
   "execution_count": 11,
   "metadata": {},
   "outputs": [
    {
     "name": "stderr",
     "output_type": "stream",
     "text": [
      "test_empty_list (__main__.TestInsertionSort) ... ok\n",
      "test_negative_numbers (__main__.TestInsertionSort) ... ok\n",
      "test_single_element (__main__.TestInsertionSort) ... ok\n",
      "test_sorted_list (__main__.TestInsertionSort) ... ok\n",
      "test_str_list (__main__.TestInsertionSort) ... ok\n",
      "test_unsorted_list (__main__.TestInsertionSort) ... ok\n",
      "\n",
      "----------------------------------------------------------------------\n",
      "Ran 6 tests in 0.006s\n",
      "\n",
      "OK\n"
     ]
    },
    {
     "data": {
      "text/plain": [
       "<unittest.runner.TextTestResult run=6 errors=0 failures=0>"
      ]
     },
     "execution_count": 11,
     "metadata": {},
     "output_type": "execute_result"
    }
   ],
   "source": [
    "import unittest\n",
    "\n",
    "class TestInsertionSort(unittest.TestCase):\n",
    "    def test_empty_list(self):\n",
    "        self.assertEqual(insertion_sort([]), [])\n",
    "\n",
    "    def test_single_element(self):\n",
    "        self.assertEqual(insertion_sort([5]), [5])\n",
    "\n",
    "    def test_sorted_list(self):\n",
    "        self.assertEqual(insertion_sort([1, 2, 3, 4, 5]), [1, 2, 3, 4, 5])\n",
    "\n",
    "    def test_unsorted_list(self):\n",
    "        self.assertEqual(insertion_sort([5, 4, 3, 2, 1]), [1, 2, 3, 4, 5])\n",
    "\n",
    "    def test_negative_numbers(self):\n",
    "        self.assertEqual(insertion_sort([-1, -3, 0, 5, -2, 4]), [-3, -2, -1, 0, 4, 5])\n",
    "\n",
    "    def test_str_list(self):\n",
    "        self.assertEqual(insertion_sort(['b', 'a', 'c']), ['a', 'b', 'c'])\n",
    "\n",
    "suite = unittest.TestLoader().loadTestsFromTestCase(TestInsertionSort)\n",
    "unittest.TextTestRunner(verbosity=2).run(suite)\n",
    "        \n",
    "\n"
   ]
  },
  {
   "cell_type": "code",
   "execution_count": 12,
   "metadata": {},
   "outputs": [
    {
     "name": "stdout",
     "output_type": "stream",
     "text": [
      "insertion_sort time: 0.032182 seconds\n",
      "std_sort time: 0.000083 seconds\n"
     ]
    }
   ],
   "source": [
    "import timeit\n",
    "import random\n",
    "\n",
    "def test_performance():\n",
    "    test_data = [random.randint(0, 1000) for _ in range(1000)]\n",
    "\n",
    "    data1 = test_data.copy()\n",
    "    data2 = test_data.copy()\n",
    "\n",
    "    insertion_sort_time = timeit.timeit(lambda: insertion_sort(data1), number=1)\n",
    "    print(f\"insertion_sort time: {insertion_sort_time:.6f} seconds\")\n",
    "\n",
    "    std_sort_time = timeit.timeit(lambda: data2.sort(), number=1)\n",
    "    print(f\"std_sort time: {std_sort_time:.6f} seconds\")\n",
    "\n",
    "test_performance()"
   ]
  }
 ],
 "metadata": {
  "kernelspec": {
   "display_name": "Python 3",
   "language": "python",
   "name": "python3"
  },
  "language_info": {
   "codemirror_mode": {
    "name": "ipython",
    "version": 3
   },
   "file_extension": ".py",
   "mimetype": "text/x-python",
   "name": "python",
   "nbconvert_exporter": "python",
   "pygments_lexer": "ipython3",
   "version": "3.10.11"
  }
 },
 "nbformat": 4,
 "nbformat_minor": 2
}
