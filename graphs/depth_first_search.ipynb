{
 "cells": [
  {
   "cell_type": "code",
   "execution_count": 25,
   "metadata": {},
   "outputs": [],
   "source": [
    "class Node:\n",
    "    def __init__(self, name):\n",
    "        self.name = name\n",
    "        self.color = None\n",
    "        self.pre = None\n",
    "        self.disc = None\n",
    "        self.fin = None\n",
    "        self.Adj = []\n",
    "\n",
    "class Graph:\n",
    "    def __init__(self):\n",
    "        self.nodes = {}\n",
    "\n",
    "    def add_node(self, node):\n",
    "        self.nodes[node.name] = node\n",
    "    \n",
    "    def add_edge(self, u, v):\n",
    "        self.nodes[u].Adj.append(self.nodes[v])"
   ]
  },
  {
   "cell_type": "code",
   "execution_count": 27,
   "metadata": {},
   "outputs": [],
   "source": [
    "def depth_first_search(graph):\n",
    "    global time\n",
    "    for u in graph.nodes.values():\n",
    "        u.color = 'white'\n",
    "        u.pre = None\n",
    "    time = 0\n",
    "    for u in graph.nodes.values():\n",
    "        if u.color == 'white':\n",
    "            dfs_visit(graph, u)\n",
    "\n",
    "def dfs_visit(graph, u):\n",
    "    global time\n",
    "    time += 1                   # while vertex u has just been discovered\n",
    "    u.disc = time\n",
    "    u.color = 'gray'\n",
    "    for v in u.Adj:             # explore each edge (u, v)\n",
    "        if v.color == 'white':\n",
    "            v.pre = u\n",
    "            dfs_visit(graph, v)\n",
    "    time += 1\n",
    "    u.fin = time\n",
    "    u.color = 'black'           # blacken u, it is finished"
   ]
  },
  {
   "cell_type": "code",
   "execution_count": 28,
   "metadata": {},
   "outputs": [
    {
     "name": "stderr",
     "output_type": "stream",
     "text": [
      "test_depth_first_search (__main__.TestDepthFirstSearch) ... ok\n",
      "\n",
      "----------------------------------------------------------------------\n",
      "Ran 1 test in 0.002s\n",
      "\n",
      "OK\n"
     ]
    },
    {
     "data": {
      "text/plain": [
       "<unittest.runner.TextTestResult run=1 errors=0 failures=0>"
      ]
     },
     "execution_count": 28,
     "metadata": {},
     "output_type": "execute_result"
    }
   ],
   "source": [
    "import unittest\n",
    "\n",
    "class TestDepthFirstSearch(unittest.TestCase):\n",
    "    def setUp(self):\n",
    "        self.graph = Graph()\n",
    "        u = Node('u')\n",
    "        v = Node('v')\n",
    "        w = Node('w')\n",
    "        x = Node('x')\n",
    "        y = Node('y')\n",
    "        z = Node('z')\n",
    "\n",
    "        self.graph.add_node(u)\n",
    "        self.graph.add_node(v)\n",
    "        self.graph.add_node(w)\n",
    "        self.graph.add_node(x)\n",
    "        self.graph.add_node(y)\n",
    "        self.graph.add_node(z)\n",
    "\n",
    "        self.graph.add_edge('u', 'v')\n",
    "        self.graph.add_edge('u', 'x')\n",
    "        self.graph.add_edge('v', 'y')\n",
    "        self.graph.add_edge('w', 'y')\n",
    "        self.graph.add_edge('w', 'z')\n",
    "        self.graph.add_edge('x', 'v')\n",
    "        self.graph.add_edge('y', 'x')\n",
    "        self.graph.add_edge('z', 'z')\n",
    "\n",
    "    def test_depth_first_search(self):\n",
    "        depth_first_search(self.graph)\n",
    "\n",
    "        expected_results = {\n",
    "            'u': {'disc': 1, 'fin': 8},\n",
    "            'v': {'disc': 2, 'fin': 7},\n",
    "            'w': {'disc': 9, 'fin': 12},\n",
    "            'x': {'disc': 4, 'fin': 5},\n",
    "            'y': {'disc': 3, 'fin': 6},\n",
    "            'z': {'disc': 10, 'fin': 11}\n",
    "        }\n",
    "\n",
    "        for node in self.graph.nodes.values():\n",
    "            self.assertEqual(node.disc, expected_results[node.name]['disc'], f\"Error in discovery time for node {node.name}\")\n",
    "            self.assertEqual(node.fin, expected_results[node.name]['fin'], f\"Error in finish time for node {node.name}\")\n",
    "\n",
    "suite = unittest.TestLoader().loadTestsFromTestCase(TestDepthFirstSearch)\n",
    "unittest.TextTestRunner(verbosity=2).run(suite)"
   ]
  }
 ],
 "metadata": {
  "kernelspec": {
   "display_name": "Python 3",
   "language": "python",
   "name": "python3"
  },
  "language_info": {
   "codemirror_mode": {
    "name": "ipython",
    "version": 3
   },
   "file_extension": ".py",
   "mimetype": "text/x-python",
   "name": "python",
   "nbconvert_exporter": "python",
   "pygments_lexer": "ipython3",
   "version": "3.10.11"
  }
 },
 "nbformat": 4,
 "nbformat_minor": 2
}
