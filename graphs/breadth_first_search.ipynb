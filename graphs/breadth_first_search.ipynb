{
 "cells": [
  {
   "cell_type": "code",
   "execution_count": 12,
   "metadata": {},
   "outputs": [],
   "source": [
    "class Node:\n",
    "    def __init__(self, name):\n",
    "        self.name = name\n",
    "        self.color = None\n",
    "        self.pre = None\n",
    "        self.disc = None\n",
    "        self.Adj = []\n",
    "\n",
    "class Graph:\n",
    "    def __init__(self):\n",
    "        self.nodes = {}\n",
    "\n",
    "    def add_node(self, node):\n",
    "        self.nodes[node.name] = node\n",
    "    \n",
    "    def add_edge(self, u, v):\n",
    "        self.nodes[u].Adj.append(self.nodes[v])"
   ]
  },
  {
   "cell_type": "code",
   "execution_count": 16,
   "metadata": {},
   "outputs": [],
   "source": [
    "from collections import deque\n",
    "\n",
    "def breadth_first_search(graph, s):\n",
    "    for u in graph.nodes.values():\n",
    "        u.color = 'white'\n",
    "        u.disc = float('inf')\n",
    "        u.pre = None\n",
    "        \n",
    "    s.color = 'gray'\n",
    "    s.disc = 0\n",
    "    s.pre = None\n",
    "    queue = deque([s])\n",
    "\n",
    "    while queue:\n",
    "        u = queue.popleft()\n",
    "        for v in u.Adj:\n",
    "            if v.color == 'white':\n",
    "                v.color = 'gray'\n",
    "                v.disc = u.disc + 1\n",
    "                v.pre = u\n",
    "                queue.append(v)\n",
    "        u.color = 'black'"
   ]
  },
  {
   "cell_type": "code",
   "execution_count": 17,
   "metadata": {},
   "outputs": [
    {
     "name": "stderr",
     "output_type": "stream",
     "text": [
      "test_depth_first_search (__main__.TestBreadthFirstSearch) ... ok\n",
      "\n",
      "----------------------------------------------------------------------\n",
      "Ran 1 test in 0.002s\n",
      "\n",
      "OK\n"
     ]
    },
    {
     "data": {
      "text/plain": [
       "<unittest.runner.TextTestResult run=1 errors=0 failures=0>"
      ]
     },
     "execution_count": 17,
     "metadata": {},
     "output_type": "execute_result"
    }
   ],
   "source": [
    "import unittest\n",
    "\n",
    "class TestBreadthFirstSearch(unittest.TestCase):\n",
    "    def setUp(self):\n",
    "        self.graph = Graph()\n",
    "        self.u = Node('u')\n",
    "        self.v = Node('v')\n",
    "        self.w = Node('w')\n",
    "        self.x = Node('x')\n",
    "        self.y = Node('y')\n",
    "        self.z = Node('z')\n",
    "\n",
    "        self.graph.add_node(self.u)\n",
    "        self.graph.add_node(self.v)\n",
    "        self.graph.add_node(self.w)\n",
    "        self.graph.add_node(self.x)\n",
    "        self.graph.add_node(self.y)\n",
    "        self.graph.add_node(self.z)\n",
    "\n",
    "        self.graph.add_edge('u', 'v')\n",
    "        self.graph.add_edge('u', 'x')\n",
    "        self.graph.add_edge('v', 'y')\n",
    "        self.graph.add_edge('w', 'y')\n",
    "        self.graph.add_edge('w', 'z')\n",
    "        self.graph.add_edge('x', 'v')\n",
    "        self.graph.add_edge('y', 'x')\n",
    "        self.graph.add_edge('z', 'z')\n",
    "\n",
    "    def test_depth_first_search(self):\n",
    "        breadth_first_search(self.graph, self.u)\n",
    "\n",
    "        expected_results = {\n",
    "            'u': {'disc': 0},\n",
    "            'v': {'disc': 1},\n",
    "            'x': {'disc': 1},\n",
    "            'y': {'disc': 2},\n",
    "            'w': {'disc': float('inf')},\n",
    "            'z': {'disc': float('inf')}\n",
    "        }\n",
    "\n",
    "        for node in self.graph.nodes.values():\n",
    "            self.assertEqual(node.disc, expected_results[node.name]['disc'], f\"Error in discovery time for node {node.name}\")\n",
    "\n",
    "suite = unittest.TestLoader().loadTestsFromTestCase(TestBreadthFirstSearch)\n",
    "unittest.TextTestRunner(verbosity=2).run(suite)"
   ]
  }
 ],
 "metadata": {
  "kernelspec": {
   "display_name": "Python 3",
   "language": "python",
   "name": "python3"
  },
  "language_info": {
   "codemirror_mode": {
    "name": "ipython",
    "version": 3
   },
   "file_extension": ".py",
   "mimetype": "text/x-python",
   "name": "python",
   "nbconvert_exporter": "python",
   "pygments_lexer": "ipython3",
   "version": "3.10.11"
  }
 },
 "nbformat": 4,
 "nbformat_minor": 2
}
